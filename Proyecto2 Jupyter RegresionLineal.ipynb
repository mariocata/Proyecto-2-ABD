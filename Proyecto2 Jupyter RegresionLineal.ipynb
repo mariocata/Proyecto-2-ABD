{
 "cells": [
  {
   "cell_type": "code",
   "execution_count": 92,
   "metadata": {},
   "outputs": [],
   "source": [
    "import numpy as np\n",
    "import pandas as pd\n",
    "import random\n",
    "from  sklearn.linear_model import LinearRegression\n",
    "from sklearn import linear_model\n",
    "from sklearn.metrics import r2_score\n",
    "import matplotlib.pyplot as plt\n",
    "from sklearn.model_selection import train_test_split\n",
    "from sklearn.neural_network import MLPRegressor\n",
    "regr=LinearRegression()\n",
    "excel='hecho ventas no null.xls'\n",
    "tiendas='olap acceso tienda.xls'\n",
    "mesas='olap mesas hechos.xls'\n",
    "col1=[2]\n",
    "col2=[11]\n",
    "col3=[3]\n",
    "col4=[0]"
   ]
  },
  {
   "cell_type": "code",
   "execution_count": 41,
   "metadata": {},
   "outputs": [
    {
     "data": {
      "text/html": [
       "<div>\n",
       "<style scoped>\n",
       "    .dataframe tbody tr th:only-of-type {\n",
       "        vertical-align: middle;\n",
       "    }\n",
       "\n",
       "    .dataframe tbody tr th {\n",
       "        vertical-align: top;\n",
       "    }\n",
       "\n",
       "    .dataframe thead th {\n",
       "        text-align: right;\n",
       "    }\n",
       "</style>\n",
       "<table border=\"1\" class=\"dataframe\">\n",
       "  <thead>\n",
       "    <tr style=\"text-align: right;\">\n",
       "      <th></th>\n",
       "      <th>nombre</th>\n",
       "      <th>cedula</th>\n",
       "      <th>edad</th>\n",
       "      <th>sexo</th>\n",
       "      <th>date</th>\n",
       "      <th>year</th>\n",
       "      <th>month</th>\n",
       "      <th>week</th>\n",
       "      <th>day</th>\n",
       "      <th>nombre_1</th>\n",
       "      <th>piso</th>\n",
       "      <th>monto</th>\n",
       "    </tr>\n",
       "  </thead>\n",
       "  <tbody>\n",
       "    <tr>\n",
       "      <th>0</th>\n",
       "      <td>Emily Heinbach</td>\n",
       "      <td>7342059</td>\n",
       "      <td>34</td>\n",
       "      <td>masculino</td>\n",
       "      <td>2019-06-07</td>\n",
       "      <td>2019</td>\n",
       "      <td>6</td>\n",
       "      <td>23</td>\n",
       "      <td>7</td>\n",
       "      <td>apolo</td>\n",
       "      <td>2</td>\n",
       "      <td>35388</td>\n",
       "    </tr>\n",
       "    <tr>\n",
       "      <th>1</th>\n",
       "      <td>Gary Moore</td>\n",
       "      <td>642084</td>\n",
       "      <td>79</td>\n",
       "      <td>femenino</td>\n",
       "      <td>2019-06-07</td>\n",
       "      <td>2019</td>\n",
       "      <td>6</td>\n",
       "      <td>23</td>\n",
       "      <td>7</td>\n",
       "      <td>mercantil</td>\n",
       "      <td>2</td>\n",
       "      <td>94068</td>\n",
       "    </tr>\n",
       "    <tr>\n",
       "      <th>2</th>\n",
       "      <td>Eugenia Carella</td>\n",
       "      <td>1624130</td>\n",
       "      <td>50</td>\n",
       "      <td>femenino</td>\n",
       "      <td>2019-06-07</td>\n",
       "      <td>2019</td>\n",
       "      <td>6</td>\n",
       "      <td>23</td>\n",
       "      <td>7</td>\n",
       "      <td>subway</td>\n",
       "      <td>3</td>\n",
       "      <td>3069</td>\n",
       "    </tr>\n",
       "    <tr>\n",
       "      <th>3</th>\n",
       "      <td>Jamie Sims</td>\n",
       "      <td>14513289</td>\n",
       "      <td>80</td>\n",
       "      <td>femenino</td>\n",
       "      <td>2019-06-07</td>\n",
       "      <td>2019</td>\n",
       "      <td>6</td>\n",
       "      <td>23</td>\n",
       "      <td>7</td>\n",
       "      <td>apolo</td>\n",
       "      <td>2</td>\n",
       "      <td>66129</td>\n",
       "    </tr>\n",
       "    <tr>\n",
       "      <th>4</th>\n",
       "      <td>Loyd Offutt</td>\n",
       "      <td>15046612</td>\n",
       "      <td>83</td>\n",
       "      <td>femenino</td>\n",
       "      <td>2019-06-07</td>\n",
       "      <td>2019</td>\n",
       "      <td>6</td>\n",
       "      <td>23</td>\n",
       "      <td>7</td>\n",
       "      <td>nike</td>\n",
       "      <td>2</td>\n",
       "      <td>64620</td>\n",
       "    </tr>\n",
       "  </tbody>\n",
       "</table>\n",
       "</div>"
      ],
      "text/plain": [
       "            nombre    cedula  edad       sexo       date  year  month  week  \\\n",
       "0   Emily Heinbach   7342059    34  masculino 2019-06-07  2019      6    23   \n",
       "1       Gary Moore    642084    79   femenino 2019-06-07  2019      6    23   \n",
       "2  Eugenia Carella   1624130    50   femenino 2019-06-07  2019      6    23   \n",
       "3       Jamie Sims  14513289    80   femenino 2019-06-07  2019      6    23   \n",
       "4      Loyd Offutt  15046612    83   femenino 2019-06-07  2019      6    23   \n",
       "\n",
       "   day   nombre_1  piso  monto  \n",
       "0    7      apolo     2  35388  \n",
       "1    7  mercantil     2  94068  \n",
       "2    7     subway     3   3069  \n",
       "3    7      apolo     2  66129  \n",
       "4    7       nike     2  64620  "
      ]
     },
     "execution_count": 41,
     "metadata": {},
     "output_type": "execute_result"
    }
   ],
   "source": [
    "datos=pd.read_excel(excel ,sheet_name='Sheet1')\n",
    "datos.head()"
   ]
  },
  {
   "cell_type": "code",
   "execution_count": 42,
   "metadata": {},
   "outputs": [
    {
     "name": "stdout",
     "output_type": "stream",
     "text": [
      "Promedio de Edad: 54.013698630136986\n"
     ]
    },
    {
     "data": {
      "text/plain": [
       "<function matplotlib.pyplot.show(*args, **kw)>"
      ]
     },
     "execution_count": 42,
     "metadata": {},
     "output_type": "execute_result"
    },
    {
     "data": {
      "image/png": "[encoded data removed]",
      "text/plain": [
       "<Figure size 432x288 with 1 Axes>"
      ]
     },
     "metadata": {
      "needs_background": "light"
     },
     "output_type": "display_data"
    }
   ],
   "source": [
    "x=pd.read_excel(excel,sheet_name=0,usecols=col1)\n",
    "y=pd.read_excel(excel,usecols=col2)\n",
    "x1=np.array(x).reshape((-1,1))\n",
    "y2=np.array(y)\n",
    "#Debido a que en el array hay valores nan buscamos acar el promedio y asi asignarselo a las personas con edad nan\n",
    "x4 = x1[~np.isnan(x1)]\n",
    "resultado = float(sum(x4)/len(x4))\n",
    "print(\"Promedio de Edad:\",str(resultado))\n",
    "x1[np.isnan(x1)]=resultado\n",
    "plt.scatter(x1, y2, color='blue')\n",
    "plt.title('Regresion Lineal del Gasto con respecto a la Edad',fontsize=16)\n",
    "plt.xlabel('Edades',fontsize=14)\n",
    "plt.ylabel('Gastos',fontsize=14)\n",
    "plt.show\n"
   ]
  },
  {
   "cell_type": "code",
   "execution_count": 5,
   "metadata": {},
   "outputs": [
    {
     "name": "stdout",
     "output_type": "stream",
     "text": [
      "Precision\n",
      "0.03728490917967475\n",
      "Valor de la pendiente\n",
      "[[365.2946609]]\n",
      "Valor de la interseccion\n",
      "[37433.55002832]\n"
     ]
    }
   ],
   "source": [
    "regr=LinearRegression()\n",
    "regr.fit(x1,y2)\n",
    "print(\"Precision\")\n",
    "print(regr.score(x1,y2))\n",
    "print(\"Valor de la pendiente\")\n",
    "print(regr.coef_)\n",
    "print(\"Valor de la interseccion\")\n",
    "print(regr.intercept_)\n",
    "y_pred=regr.predict(x1)\n"
   ]
  },
  {
   "cell_type": "code",
   "execution_count": 33,
   "metadata": {},
   "outputs": [
    {
     "data": {
      "image/png": "[encoded data removed]",
      "text/plain": [
       "<Figure size 432x288 with 1 Axes>"
      ]
     },
     "metadata": {
      "needs_background": "light"
     },
     "output_type": "display_data"
    }
   ],
   "source": [
    "plt.scatter(x1, y2)\n",
    "plt.plot(x1, y_pred, color='red', linewidth=3)\n",
    "plt.title('Regresion Lineal del Gasto con respecto a la Edad',fontsize=16)\n",
    "plt.xlabel('Edades')\n",
    "plt.ylabel('Gastos')\n",
    "plt.show()"
   ]
  },
  {
   "cell_type": "code",
   "execution_count": 60,
   "metadata": {},
   "outputs": [
    {
     "data": {
      "text/html": [
       "<div>\n",
       "<style scoped>\n",
       "    .dataframe tbody tr th:only-of-type {\n",
       "        vertical-align: middle;\n",
       "    }\n",
       "\n",
       "    .dataframe tbody tr th {\n",
       "        vertical-align: top;\n",
       "    }\n",
       "\n",
       "    .dataframe thead th {\n",
       "        text-align: right;\n",
       "    }\n",
       "</style>\n",
       "<table border=\"1\" class=\"dataframe\">\n",
       "  <thead>\n",
       "    <tr style=\"text-align: right;\">\n",
       "      <th></th>\n",
       "      <th>ingresos</th>\n",
       "      <th>ingresos_m</th>\n",
       "      <th>ingresos_f</th>\n",
       "      <th>prom_edad_m</th>\n",
       "      <th>prom_edad_f</th>\n",
       "      <th>tienda</th>\n",
       "      <th>fecha</th>\n",
       "      <th>piso</th>\n",
       "      <th>year</th>\n",
       "      <th>month</th>\n",
       "      <th>day</th>\n",
       "    </tr>\n",
       "  </thead>\n",
       "  <tbody>\n",
       "    <tr>\n",
       "      <th>0</th>\n",
       "      <td>8</td>\n",
       "      <td>2.0</td>\n",
       "      <td>6.0</td>\n",
       "      <td>57.0</td>\n",
       "      <td>44.0</td>\n",
       "      <td>apolo</td>\n",
       "      <td>2019-06-07</td>\n",
       "      <td>2</td>\n",
       "      <td>2019</td>\n",
       "      <td>6</td>\n",
       "      <td>7</td>\n",
       "    </tr>\n",
       "    <tr>\n",
       "      <th>1</th>\n",
       "      <td>6</td>\n",
       "      <td>1.0</td>\n",
       "      <td>5.0</td>\n",
       "      <td>50.0</td>\n",
       "      <td>53.0</td>\n",
       "      <td>banesco</td>\n",
       "      <td>2019-06-07</td>\n",
       "      <td>1</td>\n",
       "      <td>2019</td>\n",
       "      <td>6</td>\n",
       "      <td>7</td>\n",
       "    </tr>\n",
       "    <tr>\n",
       "      <th>2</th>\n",
       "      <td>8</td>\n",
       "      <td>3.0</td>\n",
       "      <td>5.0</td>\n",
       "      <td>55.0</td>\n",
       "      <td>33.0</td>\n",
       "      <td>burger king</td>\n",
       "      <td>2019-06-07</td>\n",
       "      <td>3</td>\n",
       "      <td>2019</td>\n",
       "      <td>6</td>\n",
       "      <td>7</td>\n",
       "    </tr>\n",
       "    <tr>\n",
       "      <th>3</th>\n",
       "      <td>6</td>\n",
       "      <td>4.0</td>\n",
       "      <td>2.0</td>\n",
       "      <td>54.0</td>\n",
       "      <td>72.0</td>\n",
       "      <td>compumall</td>\n",
       "      <td>2019-06-07</td>\n",
       "      <td>1</td>\n",
       "      <td>2019</td>\n",
       "      <td>6</td>\n",
       "      <td>7</td>\n",
       "    </tr>\n",
       "    <tr>\n",
       "      <th>4</th>\n",
       "      <td>8</td>\n",
       "      <td>3.0</td>\n",
       "      <td>5.0</td>\n",
       "      <td>42.0</td>\n",
       "      <td>26.0</td>\n",
       "      <td>digitel</td>\n",
       "      <td>2019-06-07</td>\n",
       "      <td>1</td>\n",
       "      <td>2019</td>\n",
       "      <td>6</td>\n",
       "      <td>7</td>\n",
       "    </tr>\n",
       "  </tbody>\n",
       "</table>\n",
       "</div>"
      ],
      "text/plain": [
       "   ingresos  ingresos_m  ingresos_f  prom_edad_m  prom_edad_f       tienda  \\\n",
       "0         8         2.0         6.0         57.0         44.0        apolo   \n",
       "1         6         1.0         5.0         50.0         53.0      banesco   \n",
       "2         8         3.0         5.0         55.0         33.0  burger king   \n",
       "3         6         4.0         2.0         54.0         72.0    compumall   \n",
       "4         8         3.0         5.0         42.0         26.0      digitel   \n",
       "\n",
       "       fecha  piso  year  month  day  \n",
       "0 2019-06-07     2  2019      6    7  \n",
       "1 2019-06-07     1  2019      6    7  \n",
       "2 2019-06-07     3  2019      6    7  \n",
       "3 2019-06-07     1  2019      6    7  \n",
       "4 2019-06-07     1  2019      6    7  "
      ]
     },
     "execution_count": 60,
     "metadata": {},
     "output_type": "execute_result"
    }
   ],
   "source": [
    "data=pd.read_excel(tiendas ,sheet_name='accesos tienda')\n",
    "data.head()"
   ]
  },
  {
   "cell_type": "code",
   "execution_count": 65,
   "metadata": {},
   "outputs": [
    {
     "data": {
      "text/plain": [
       "<function matplotlib.pyplot.show(*args, **kw)>"
      ]
     },
     "execution_count": 65,
     "metadata": {},
     "output_type": "execute_result"
    },
    {
     "data": {
      "image/png": "[encoded data removed]",
      "text/plain": [
       "<Figure size 432x288 with 1 Axes>"
      ]
     },
     "metadata": {
      "needs_background": "light"
     },
     "output_type": "display_data"
    }
   ],
   "source": [
    "a=pd.read_excel(tiendas,sheet_name=0,usecols=col3)\n",
    "b=pd.read_excel(tiendas,usecols=col4)\n",
    "a1=np.array(a).reshape((-1,1))\n",
    "b2=np.array(b).reshape((-1,1))\n",
    "a4 = a1[~np.isnan(a1)]\n",
    "resultado = float(sum(a4)/len(a4))\n",
    "a1[np.isnan(a1)]=resultado\n",
    "b4 = b2[~np.isnan(b2)]\n",
    "resultado = float(sum(b4)/len(b4))\n",
    "b2[np.isnan(b2)]=resultado\n",
    "plt.scatter(a1, b2, color='blue')\n",
    "plt.title('Regresion Lineal de Ingreso a las Tiendas con respecto al promedio de Edad masculina',fontsize=16)\n",
    "plt.xlabel('Promedio de Edad Masculina',fontsize=14)\n",
    "plt.ylabel('Ingresos',fontsize=14)\n",
    "plt.show"
   ]
  },
  {
   "cell_type": "code",
   "execution_count": 66,
   "metadata": {},
   "outputs": [
    {
     "name": "stdout",
     "output_type": "stream",
     "text": [
      "Precision\n",
      "0.014966156753258741\n",
      "Valor de la pendiente\n",
      "[[0.02234506]]\n",
      "Valor de la interseccion\n",
      "[3.72972123]\n"
     ]
    }
   ],
   "source": [
    "model=LinearRegression()\n",
    "model.fit(a1,b2)\n",
    "print(\"Precision\")\n",
    "print(model.score(a1,b2))\n",
    "print(\"Valor de la pendiente\")\n",
    "print(model.coef_)\n",
    "print(\"Valor de la interseccion\")\n",
    "print(model.intercept_)\n",
    "b_pred=model.predict(a1)\n"
   ]
  },
  {
   "cell_type": "code",
   "execution_count": 93,
   "metadata": {},
   "outputs": [
    {
     "data": {
      "image/png": "[encoded data removed]",
      "text/plain": [
       "<Figure size 432x288 with 1 Axes>"
      ]
     },
     "metadata": {
      "needs_background": "light"
     },
     "output_type": "display_data"
    }
   ],
   "source": [
    "plt.scatter(a1, b2)\n",
    "plt.plot(a1, b_pred, color='orange', linewidth=3)\n",
    "plt.title('Regresion Lineal del Gasto con respecto a la Edad',fontsize=16)\n",
    "plt.xlabel('Promedio de Edad Masculina')\n",
    "plt.ylabel('Ingresos')\n",
    "plt.show()"
   ]
  },
  {
   "cell_type": "code",
   "execution_count": null,
   "metadata": {},
   "outputs": [],
   "source": []
  }
 ],
 "metadata": {
  "kernelspec": {
   "display_name": "Python 3",
   "language": "python",
   "name": "python3"
  },
  "language_info": {
   "codemirror_mode": {
    "name": "ipython",
    "version": 3
   },
   "file_extension": ".py",
   "mimetype": "text/x-python",
   "name": "python",
   "nbconvert_exporter": "python",
   "pygments_lexer": "ipython3",
   "version": "3.7.3"
  }
 },
 "nbformat": 4,
 "nbformat_minor": 2
}
